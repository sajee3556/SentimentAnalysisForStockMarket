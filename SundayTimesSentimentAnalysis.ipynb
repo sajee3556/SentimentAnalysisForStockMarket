{
 "cells": [
  {
   "cell_type": "code",
   "execution_count": 2,
   "metadata": {},
   "outputs": [
    {
     "name": "stdout",
     "output_type": "stream",
     "text": [
      "2018-10-29\n"
     ]
    },
    {
     "data": {
      "text/plain": [
       "[<matplotlib.lines.Line2D at 0x2518af0b5c0>]"
      ]
     },
     "execution_count": 2,
     "metadata": {},
     "output_type": "execute_result"
    },
    {
     "data": {
      "image/png": "[encoded data removed]",
      "text/plain": [
       "<Figure size 1440x720 with 1 Axes>"
      ]
     },
     "metadata": {
      "needs_background": "light"
     },
     "output_type": "display_data"
    }
   ],
   "source": [
    "import nltk\n",
    "import warnings\n",
    "warnings.filterwarnings('ignore')\n",
    "from nltk.sentiment.vader import SentimentIntensityAnalyzer\n",
    "# nltk.download('vader_lexicon')\n",
    "\n",
    "sia = SentimentIntensityAnalyzer()\n",
    "\n",
    "from urllib.request import urlopen\n",
    "from bs4 import BeautifulSoup\n",
    "from datetime import datetime, timedelta\n",
    "import time\n",
    "import pprint\n",
    "\n",
    "date_sentiments = {}\n",
    "# html = urlopen(\"http://www.sundaytimes.lk/business\")\n",
    "#     bsObj = BeautifulSoup(html, features=\"html.parser\")\n",
    "#     posts = bsObj.findAll(\"div\", {\"class\": \"col-md-7\"})\n",
    "#     # print(posts)\n",
    "#     for post in posts:\n",
    "#         time.sleep(1)\n",
    "#         url = post.a['href']\n",
    "#         date = post.p.span.text\n",
    "#         print(date,url)\n",
    "\n",
    "for i in range(1,2):\n",
    "    html = urlopen(\"http://www.sundaytimes.lk/search/John%20keells/\"+str(i))\n",
    "    bsObj = BeautifulSoup(html, features=\"html.parser\")\n",
    "    posts = bsObj.findAll(\"div\", {\"class\": \"col-md-7\"})\n",
    "    # print(posts)\n",
    "    for post in posts:\n",
    "        time.sleep(1)\n",
    "        url = post.a['href']\n",
    "        date = post.p.span.text\n",
    "        date = date[1:-3]\n",
    "        date = date.replace(',', '')\n",
    "        date = datetime.strptime(date, \"%B %d %Y %H:%M\").strftime(\"%d/%m/%Y\");\n",
    "#         print(newDate)\n",
    "#         print(date,url)\n",
    "        try:\n",
    "            link_page = urlopen(url).read()\n",
    "        except:\n",
    "            url = url[:-2]\n",
    "            link_page = urlopen(url).read()\n",
    "        link_soup = BeautifulSoup(link_page,\"html5lib\")\n",
    "        sentences = link_soup.findAll(\"p\")\n",
    "        \n",
    "#         print(sentences)\n",
    "        \n",
    "        passage = \"\"\n",
    "        for sentence in sentences:\n",
    "            if('class' in sentence.attrs):\n",
    "                unwanted = sentence.text\n",
    "            else:\n",
    "                passage += sentence.text \n",
    "        sentiment = sia.polarity_scores(passage)['compound']\n",
    "        date_sentiments.setdefault(date, []).append(sentiment)\n",
    "#         print(date_sentiments)\n",
    "\n",
    "date_sentiment = {}\n",
    "\n",
    "for k,v in date_sentiments.items():\n",
    "    date_sentiment[datetime.strptime(k, '%d/%m/%Y').date() + timedelta(days=1)] = round(sum(v)/float(len(v)),3)\n",
    "\n",
    "earliest_date = min(date_sentiment.keys())\n",
    "print(earliest_date)\n",
    "# print(date_sentiment)\n",
    "\n",
    "#to plot within notebook\n",
    "import matplotlib.pyplot as plt\n",
    "%matplotlib inline\n",
    "plt.figure(figsize=(20,10))\n",
    "plt.plot(date_sentiment.keys(),date_sentiment.values(),'ro')"
   ]
  },
  {
   "cell_type": "code",
   "execution_count": null,
   "metadata": {},
   "outputs": [],
   "source": []
  },
  {
   "cell_type": "code",
   "execution_count": null,
   "metadata": {},
   "outputs": [],
   "source": []
  }
 ],
 "metadata": {
  "kernelspec": {
   "display_name": "Python 3",
   "language": "python",
   "name": "python3"
  },
  "language_info": {
   "codemirror_mode": {
    "name": "ipython",
    "version": 3
   },
   "file_extension": ".py",
   "mimetype": "text/x-python",
   "name": "python",
   "nbconvert_exporter": "python",
   "pygments_lexer": "ipython3",
   "version": "3.7.3"
  }
 },
 "nbformat": 4,
 "nbformat_minor": 2
}
