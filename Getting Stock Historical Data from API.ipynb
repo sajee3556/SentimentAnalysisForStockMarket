{
 "cells": [
  {
   "cell_type": "code",
   "execution_count": 1,
   "metadata": {},
   "outputs": [
    {
     "ename": "AttributeError",
     "evalue": "'YahooFinancials' object has no attribute 'get_historical_stock_data'",
     "output_type": "error",
     "traceback": [
      "\u001b[1;31m---------------------------------------------------------------------------\u001b[0m",
      "\u001b[1;31mAttributeError\u001b[0m                            Traceback (most recent call last)",
      "\u001b[1;32m<ipython-input-1-85e99d69d34c>\u001b[0m in \u001b[0;36m<module>\u001b[1;34m\u001b[0m\n\u001b[0;32m     12\u001b[0m \u001b[0mbanks_net_ebit\u001b[0m \u001b[1;33m=\u001b[0m \u001b[0myahoo_financials_banks\u001b[0m\u001b[1;33m.\u001b[0m\u001b[0mget_ebit\u001b[0m\u001b[1;33m(\u001b[0m\u001b[1;33m)\u001b[0m\u001b[1;33m\u001b[0m\u001b[1;33m\u001b[0m\u001b[0m\n\u001b[0;32m     13\u001b[0m \u001b[1;31m# tech_stock_price_data = tech_cash_flow_data.get_stock_price_data()\u001b[0m\u001b[1;33m\u001b[0m\u001b[1;33m\u001b[0m\u001b[1;33m\u001b[0m\u001b[0m\n\u001b[1;32m---> 14\u001b[1;33m \u001b[0mdaily_bank_stock_prices\u001b[0m \u001b[1;33m=\u001b[0m \u001b[0myahoo_financials_banks\u001b[0m\u001b[1;33m.\u001b[0m\u001b[0mget_historical_stock_data\u001b[0m\u001b[1;33m(\u001b[0m\u001b[1;34m'2017-09-15'\u001b[0m\u001b[1;33m,\u001b[0m \u001b[1;34m'2019-06-15'\u001b[0m\u001b[1;33m,\u001b[0m \u001b[1;34m'daily'\u001b[0m\u001b[1;33m)\u001b[0m\u001b[1;33m\u001b[0m\u001b[1;33m\u001b[0m\u001b[0m\n\u001b[0m\u001b[0;32m     15\u001b[0m \u001b[1;33m\u001b[0m\u001b[0m\n\u001b[0;32m     16\u001b[0m \u001b[0myahoo_financials\u001b[0m \u001b[1;33m=\u001b[0m \u001b[0mYahooFinancials\u001b[0m\u001b[1;33m(\u001b[0m\u001b[1;34m'WFC'\u001b[0m\u001b[1;33m)\u001b[0m\u001b[1;33m\u001b[0m\u001b[1;33m\u001b[0m\u001b[0m\n",
      "\u001b[1;31mAttributeError\u001b[0m: 'YahooFinancials' object has no attribute 'get_historical_stock_data'"
     ]
    }
   ],
   "source": [
    "from yahoofinancials import YahooFinancials\n",
    "\n",
    "tech_stocks = ['AAPL', 'MSFT', 'INTC']\n",
    "bank_stocks = ['WFC', 'BAC', 'C']\n",
    "\n",
    "yahoo_financials_tech = YahooFinancials(tech_stocks)\n",
    "yahoo_financials_banks = YahooFinancials(bank_stocks)\n",
    "\n",
    "tech_cash_flow_data_an = yahoo_financials_tech.get_financial_stmts('annual', 'cash')\n",
    "bank_cash_flow_data_an = yahoo_financials_banks.get_financial_stmts('annual', 'cash')\n",
    "\n",
    "banks_net_ebit = yahoo_financials_banks.get_ebit()\n",
    "# tech_stock_price_data = tech_cash_flow_data.get_stock_price_data()\n",
    "daily_bank_stock_prices = yahoo_financials_banks.get_historical_stock_data('2017-09-15', '2019-06-15', 'daily')\n",
    "\n",
    "yahoo_financials = YahooFinancials('WFC')\n",
    "print(yahoo_financials.get_historical_stock_data(\"2017-09-10\", \"2017-10-10\", \"monthly\"))"
   ]
  },
  {
   "cell_type": "code",
   "execution_count": null,
   "metadata": {},
   "outputs": [],
   "source": [
    "\n",
    "\n"
   ]
  },
  {
   "cell_type": "code",
   "execution_count": null,
   "metadata": {},
   "outputs": [],
   "source": []
  },
  {
   "cell_type": "code",
   "execution_count": null,
   "metadata": {
    "collapsed": true
   },
   "outputs": [],
   "source": []
  }
 ],
 "metadata": {
  "kernelspec": {
   "display_name": "Python 3",
   "language": "python",
   "name": "python3"
  },
  "language_info": {
   "codemirror_mode": {
    "name": "ipython",
    "version": 3
   },
   "file_extension": ".py",
   "mimetype": "text/x-python",
   "name": "python",
   "nbconvert_exporter": "python",
   "pygments_lexer": "ipython3",
   "version": "3.7.3"
  }
 },
 "nbformat": 4,
 "nbformat_minor": 2
}
